{
 "cells": [
  {
   "cell_type": "code",
   "execution_count": 1,
   "id": "72c7bd68-e486-48c6-a962-e1c21b63908f",
   "metadata": {},
   "outputs": [],
   "source": [
    "import sqlite3\n",
    "import csv"
   ]
  },
  {
   "cell_type": "markdown",
   "id": "a602c994-0aed-43cd-b1aa-2b5666fdeb1c",
   "metadata": {},
   "source": [
    "### Approach 1 - SQL Query"
   ]
  },
  {
   "cell_type": "code",
   "execution_count": 10,
   "id": "432a36c9-6e10-4f23-b832-ae7aba43fbe8",
   "metadata": {},
   "outputs": [],
   "source": [
    "# Connect to SQLite database\n",
    "conn = sqlite3.connect('$\\\\Data Engineer - Assignment Database.db') # your file path\n",
    "cursor = conn.cursor()\n",
    "\n",
    "sql_query = \"\"\"\n",
    "select c.customer_id, c.age, i.item_name,\n",
    "sum(case when o.quantity is null then 0 else o.quantity END) AS Quantity\n",
    "from customers c\n",
    "join sales s on c.customer_id = s.customer_id\n",
    "join orders o on s.sales_id = o.sales_id\n",
    "join items i on o.item_id = i.item_id\n",
    "where c.age between 18 and 35\n",
    "group by c.customer_id, i.item_name\n",
    "having Quantity > 0\n",
    "order by c.customer_id\n",
    "\"\"\"\n",
    "# Execute\n",
    "cursor.execute(sql_query)\n",
    "# Output\n",
    "results = cursor.fetchall()\n",
    "# Output to csv file\n",
    "with open('output_sql.csv', 'w', newline='') as file:\n",
    "    writeFile = csv.writer(file, delimiter = ';', lineterminator='\\n')\n",
    "    writeFile.writerow(['Customer_Id', 'Age', 'Item_Name', 'Quantity'])\n",
    "    for row in results:\n",
    "        writeFile.writerow(row)\n",
    "# Close connection\n",
    "conn.close()\n",
    "    "
   ]
  },
  {
   "cell_type": "markdown",
   "id": "a4a826c5-f8d1-4bca-a5ef-1cdd6a8a6012",
   "metadata": {},
   "source": [
    "### Approach 2 - Using Panda lib "
   ]
  },
  {
   "cell_type": "code",
   "execution_count": 12,
   "id": "3e3d3d3f-4b75-4e8c-bc81-94c4ba8105a9",
   "metadata": {},
   "outputs": [],
   "source": [
    "import pandas as pd"
   ]
  },
  {
   "cell_type": "code",
   "execution_count": 22,
   "id": "06e73925-5a89-437b-8eb8-f13e1042e3b2",
   "metadata": {},
   "outputs": [],
   "source": [
    "# create connection\n",
    "conn = sqlite3.connect('$\\\\Data Engineer - Assignment Database.db') # your file path\n",
    "# Load data into Dataframes\n",
    "sales_df = pd.read_sql_query('select * from sales', conn)\n",
    "customers_df = pd.read_sql_query('select * from customers', conn)\n",
    "orders_df = pd.read_sql_query('select * from orders', conn)\n",
    "items_df = pd.read_sql_query('select * from items', conn)\n",
    "\n",
    "# start merging dataframe\n",
    "df_merge = pd.merge(customers_df, sales_df, on = 'customer_id')\n",
    "df_merge = pd.merge(df_merge, orders_df, on = 'sales_id')\n",
    "df_merge = pd.merge(df_merge, items_df, on = 'item_id')\n",
    "\n",
    "# Filter customer age\n",
    "df_filter = df_merge[(df_merge['age'] >= 18) & (df_merge['age'] <= 35)]\n",
    "\n",
    "# Fill NULL quantities with 0\n",
    "#df_filter['quantity'] = df_filter['quantity'].fillna(0)\n",
    "\n",
    "# Convert quantity column to integers\n",
    "#df_filter['quantity'] = df_filter['quantity'].astype(int)\n",
    "\n",
    "df_filter['quantity'] = df_filter['quantity'].fillna(0).astype(int)\n",
    "\n",
    "# Group by and sum of quantity\n",
    "df_group = df_filter.groupby(['customer_id','age', 'item_name'])['quantity'].sum().reset_index()\n",
    "\n",
    "# Add condition of Quantity > 0\n",
    "df_group = df_group[df_group['quantity'] > 0]\n",
    "\n",
    "# handle float value to integer\n",
    "#df_group['quantity'] = df_group['quantity'].astype(int)\n",
    "\n",
    "# write dataframe to csv\n",
    "df_group.to_csv('output_pandas.csv', sep= ';', index = False, lineterminator = '\\n')\n",
    "\n",
    "# Close database connection\n",
    "conn.close()"
   ]
  },
  {
   "cell_type": "code",
   "execution_count": null,
   "id": "fa8d0148-5ffa-49e0-a3a7-034878e5e5c4",
   "metadata": {},
   "outputs": [],
   "source": []
  }
 ],
 "metadata": {
  "kernelspec": {
   "display_name": "Python 3 (ipykernel)",
   "language": "python",
   "name": "python3"
  },
  "language_info": {
   "codemirror_mode": {
    "name": "ipython",
    "version": 3
   },
   "file_extension": ".py",
   "mimetype": "text/x-python",
   "name": "python",
   "nbconvert_exporter": "python",
   "pygments_lexer": "ipython3",
   "version": "3.11.7"
  }
 },
 "nbformat": 4,
 "nbformat_minor": 5
}
